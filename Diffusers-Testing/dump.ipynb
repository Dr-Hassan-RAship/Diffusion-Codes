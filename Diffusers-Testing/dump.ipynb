{
 "cells": [
  {
   "cell_type": "code",
   "execution_count": 1,
   "metadata": {},
   "outputs": [],
   "source": [
    "import os\n",
    "import numpy as np\n",
    "import pandas as pd\n",
    "import matplotlib.pyplot as plt\n",
    "from skimage.draw import disk, polygon\n",
    "from glob import glob\n",
    "import cv2\n",
    "\n",
    "root_dir = 'C:/Users/Talha/OneDrive - Higher Education Commission/Documents/GitHub/Diffusion-Codes/Diffusers-Testing'\n",
    "os.chdir(root_dir)"
   ]
  },
  {
   "cell_type": "code",
   "execution_count": 2,
   "metadata": {},
   "outputs": [
    {
     "name": "stdout",
     "output_type": "stream",
     "text": [
      "Metrics saved to C:/Users/Talha/OneDrive - Higher Education Commission/Documents/GitHub/Diffusion-Codes/Diffusers-Testing/testing_analysis\\uncertainty_metrics.csv\n",
      "✅ Uncertainty metrics saved to C:/Users/Talha/OneDrive - Higher Education Commission/Documents/GitHub/Diffusion-Codes/Diffusers-Testing/testing_analysis\\uncertainty_metrics.csv\n"
     ]
    },
    {
     "name": "stderr",
     "output_type": "stream",
     "text": [
      "2025-05-23 19:32:07.875131: I tensorflow/core/util/port.cc:153] oneDNN custom operations are on. You may see slightly different numerical results due to floating-point round-off errors from different computation orders. To turn them off, set the environment variable `TF_ENABLE_ONEDNN_OPTS=0`.\n",
      "2025-05-23 19:32:09.852653: I tensorflow/core/util/port.cc:153] oneDNN custom operations are on. You may see slightly different numerical results due to floating-point round-off errors from different computation orders. To turn them off, set the environment variable `TF_ENABLE_ONEDNN_OPTS=0`.\n"
     ]
    }
   ],
   "source": [
    "!python uncertainty_analysis.py"
   ]
  },
  {
   "cell_type": "code",
   "execution_count": 3,
   "metadata": {},
   "outputs": [
    {
     "data": {
      "text/html": [
       "<div>\n",
       "<style scoped>\n",
       "    .dataframe tbody tr th:only-of-type {\n",
       "        vertical-align: middle;\n",
       "    }\n",
       "\n",
       "    .dataframe tbody tr th {\n",
       "        vertical-align: top;\n",
       "    }\n",
       "\n",
       "    .dataframe thead th {\n",
       "        text-align: right;\n",
       "    }\n",
       "</style>\n",
       "<table border=\"1\" class=\"dataframe\">\n",
       "  <thead>\n",
       "    <tr style=\"text-align: right;\">\n",
       "      <th></th>\n",
       "      <th>Patient_ID</th>\n",
       "      <th>GT_Components</th>\n",
       "      <th>Pred_Components</th>\n",
       "      <th>Component_Diff</th>\n",
       "      <th>GT_Smoothness</th>\n",
       "      <th>Pred_Smoothness</th>\n",
       "      <th>Smoothness_Diff</th>\n",
       "    </tr>\n",
       "  </thead>\n",
       "  <tbody>\n",
       "    <tr>\n",
       "      <th>0</th>\n",
       "      <td>0</td>\n",
       "      <td>1</td>\n",
       "      <td>1</td>\n",
       "      <td>0</td>\n",
       "      <td>([1.0765577989436452], 1.0765577989436452)</td>\n",
       "      <td>([1.0765577989436452], 1.0765577989436452)</td>\n",
       "      <td>0.0</td>\n",
       "    </tr>\n",
       "    <tr>\n",
       "      <th>1</th>\n",
       "      <td>1</td>\n",
       "      <td>2</td>\n",
       "      <td>1</td>\n",
       "      <td>1</td>\n",
       "      <td>([1.0700973119248192, 1.0570850420432631], 1.0...</td>\n",
       "      <td>([1.0700973119248192, nan], nan)</td>\n",
       "      <td>NaN</td>\n",
       "    </tr>\n",
       "    <tr>\n",
       "      <th>2</th>\n",
       "      <td>2</td>\n",
       "      <td>1</td>\n",
       "      <td>1</td>\n",
       "      <td>0</td>\n",
       "      <td>([1.3657568924106536], 1.3657568924106536)</td>\n",
       "      <td>([1.3657568924106536], 1.3657568924106536)</td>\n",
       "      <td>0.0</td>\n",
       "    </tr>\n",
       "    <tr>\n",
       "      <th>3</th>\n",
       "      <td>3</td>\n",
       "      <td>2</td>\n",
       "      <td>1</td>\n",
       "      <td>1</td>\n",
       "      <td>([1.3657568924106536, 1.075845765087769], 1.22...</td>\n",
       "      <td>([1.075845765087769, nan], nan)</td>\n",
       "      <td>NaN</td>\n",
       "    </tr>\n",
       "  </tbody>\n",
       "</table>\n",
       "</div>"
      ],
      "text/plain": [
       "   Patient_ID  GT_Components  Pred_Components  Component_Diff  \\\n",
       "0           0              1                1               0   \n",
       "1           1              2                1               1   \n",
       "2           2              1                1               0   \n",
       "3           3              2                1               1   \n",
       "\n",
       "                                       GT_Smoothness  \\\n",
       "0         ([1.0765577989436452], 1.0765577989436452)   \n",
       "1  ([1.0700973119248192, 1.0570850420432631], 1.0...   \n",
       "2         ([1.3657568924106536], 1.3657568924106536)   \n",
       "3  ([1.3657568924106536, 1.075845765087769], 1.22...   \n",
       "\n",
       "                              Pred_Smoothness  Smoothness_Diff  \n",
       "0  ([1.0765577989436452], 1.0765577989436452)              0.0  \n",
       "1            ([1.0700973119248192, nan], nan)              NaN  \n",
       "2  ([1.3657568924106536], 1.3657568924106536)              0.0  \n",
       "3             ([1.075845765087769, nan], nan)              NaN  "
      ]
     },
     "execution_count": 3,
     "metadata": {},
     "output_type": "execute_result"
    }
   ],
   "source": [
    "csv_path = 'testing_analysis/uncertainty_metrics.csv'\n",
    "\n",
    "pd.read_csv(csv_path)"
   ]
  },
  {
   "cell_type": "code",
   "execution_count": null,
   "metadata": {},
   "outputs": [],
   "source": []
  }
 ],
 "metadata": {
  "kernelspec": {
   "display_name": "Python 3",
   "language": "python",
   "name": "python3"
  },
  "language_info": {
   "codemirror_mode": {
    "name": "ipython",
    "version": 3
   },
   "file_extension": ".py",
   "mimetype": "text/x-python",
   "name": "python",
   "nbconvert_exporter": "python",
   "pygments_lexer": "ipython3",
   "version": "3.12.5"
  }
 },
 "nbformat": 4,
 "nbformat_minor": 2
}
