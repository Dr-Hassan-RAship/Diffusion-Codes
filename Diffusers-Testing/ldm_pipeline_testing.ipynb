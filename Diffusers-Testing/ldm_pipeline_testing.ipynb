{
 "cells": [
  {
   "cell_type": "code",
   "execution_count": 1,
   "metadata": {},
   "outputs": [
    {
     "name": "stderr",
     "output_type": "stream",
     "text": [
      "/home/ee/anaconda3/envs/TaN2/lib/python3.11/site-packages/tqdm/auto.py:21: TqdmWarning: IProgress not found. Please update jupyter and ipywidgets. See https://ipywidgets.readthedocs.io/en/stable/user_install.html\n",
      "  from .autonotebook import tqdm as notebook_tqdm\n"
     ]
    }
   ],
   "source": [
    "import torch\n",
    "import torch.nn as nn\n",
    "from diffusers import AutoencoderKL, UNet2DConditionModel, UNet2DModel, DDPMScheduler\n",
    "\n",
    "\n",
    "class TauEncoder(nn.Module):\n",
    "    \"\"\"\n",
    "    Learnable encoder for the input RGB image (tau_theta).\n",
    "    Architecturally same as the VAE encoder but trainable.\n",
    "    \"\"\"\n",
    "    def __init__(self, vae: AutoencoderKL):\n",
    "        super().__init__()\n",
    "        # Copy VAE encoder structure\n",
    "        self.encoder = vae.encoder\n",
    "        self.quant_conv = vae.quant_conv\n",
    "\n",
    "    def forward(self, x):\n",
    "        h = self.encoder(x)\n",
    "        moments = self.quant_conv(h)\n",
    "        mean, logvar = torch.chunk(moments, 2, dim=1)\n",
    "        z = mean  # no sampling, deterministic\n",
    "        return z\n"
   ]
  },
  {
   "cell_type": "code",
   "execution_count": 2,
   "metadata": {},
   "outputs": [],
   "source": [
    "class LDM_Segmentor(nn.Module):\n",
    "    def __init__(self, pretrained_vae=\"CompVis/stable-diffusion-v1-4\", scheduler_steps=1000, device=\"cuda\"):\n",
    "        super().__init__()\n",
    "        self.device = device\n",
    "\n",
    "        # Load frozen VAE\n",
    "        self.vae = AutoencoderKL.from_pretrained(pretrained_vae, subfolder=\"vae\").eval().to(device)\n",
    "        for p in self.vae.parameters():\n",
    "            p.requires_grad = False\n",
    "\n",
    "        # Learnable encoder for input image (τ_θ)\n",
    "        self.image_encoder = TauEncoder(self.vae).to(device)\n",
    "\n",
    "        # Diffusion U-Net (8 channels in: 4 noisy mask + 4 image encoding)\n",
    "        self.unet = UNet2DModel(\n",
    "            sample_size=32,\n",
    "            in_channels=8,\n",
    "            out_channels=4,\n",
    "            layers_per_block=2,\n",
    "            block_out_channels=(128, 256, 256, 512),\n",
    "            down_block_types=(\"DownBlock2D\", \"DownBlock2D\", \"DownBlock2D\", \"DownBlock2D\"),\n",
    "            up_block_types=(\"UpBlock2D\", \"UpBlock2D\", \"UpBlock2D\", \"UpBlock2D\")\n",
    "        ).to(device)\n",
    "\n",
    "        # Scheduler (adds noise and steps)\n",
    "        self.scheduler = DDPMScheduler(num_train_timesteps=scheduler_steps)\n",
    "\n",
    "    def forward(self, image, mask, t):\n",
    "        \"\"\"\n",
    "        Forward pass for training.\n",
    "        image: (B, 3, 256, 256) → Input RGB image\n",
    "        mask : (B, 3, 256, 256) → Binary mask (float in [-1, 1])\n",
    "        t    : (B,)             → Timestep tensor for noise\n",
    "        \"\"\"\n",
    "        # --- Step 1: Mask → VAE encoder (frozen)\n",
    "        with torch.no_grad():\n",
    "            posterior = self.vae.encode(mask).latent_dist\n",
    "            z0 = posterior.sample() * 0.18215  # scaled latent\n",
    "\n",
    "        # --- Step 2: Add noise to z0 using scheduler → zt\n",
    "        noise = torch.randn_like(z0)\n",
    "        zt = self.scheduler.add_noise(z0, noise, t)\n",
    "\n",
    "        # --- Step 3: Image → Tau encoder → zc\n",
    "        zc = self.image_encoder(image) * 0.18215\n",
    "\n",
    "        # --- Step 4: Concatenate and denoise\n",
    "        zt_cat = torch.cat([zt, zc], dim=1)  # (B, 8, 32, 32)\n",
    "        noise_pred = self.unet(zt_cat, t).sample\n",
    "\n",
    "        # --- Step 5: Decode z0_hat to mask\n",
    "        with torch.no_grad():\n",
    "            z0_hat   = self.scheduler.step(noise_pred, t, zt).prev_sample\n",
    "            mask_hat = self.vae.decode(z0_hat / 0.18215).sample\n",
    "\n",
    "        return {\n",
    "            \"z0\": z0,\n",
    "            \"zt\": zt,\n",
    "            \"zc\": zc,\n",
    "            \"noise_pred\": noise_pred,\n",
    "            \"z0_hat\": z0_hat,\n",
    "            \"mask_hat\": mask_hat\n",
    "        }"
   ]
  },
  {
   "cell_type": "code",
   "execution_count": 4,
   "metadata": {},
   "outputs": [
    {
     "data": {
      "text/plain": [
       "dict_keys(['z0', 'zt', 'zc', 'noise_pred', 'z0_hat', 'mask_hat'])"
      ]
     },
     "execution_count": 4,
     "metadata": {},
     "output_type": "execute_result"
    }
   ],
   "source": [
    "\n",
    "# Dummy forward pass test\n",
    "device = \"cuda\" if torch.cuda.is_available() else \"cpu\"\n",
    "model = LDM_Segmentor(device=device)\n",
    "\n",
    "B, C, H, W = 1, 3, 256, 256\n",
    "image = torch.randn(B, C, H, W).to(device)\n",
    "mask  = (torch.rand(B, C, H, W) > 0.5).float().to(device)\n",
    "t     = torch.randint(0, model.scheduler.config.num_train_timesteps, (B,), device=device)\n",
    "\n",
    "outputs = model(image, mask, t)\n",
    "outputs.keys()\n"
   ]
  },
  {
   "cell_type": "code",
   "execution_count": 2,
   "metadata": {},
   "outputs": [],
   "source": [
    "class LDM_Segmentor_CrossAttention(nn.Module):\n",
    "    \"\"\"\n",
    "    LDM-based segmentation model using cross-attention from UNet2DConditionModel.\n",
    "    \"\"\"\n",
    "\n",
    "    def __init__(self, device=\"cuda\", latent_scale=0.18215, num_inference_steps=1000):\n",
    "        super().__init__()\n",
    "        self.device = torch.device(device)\n",
    "        self.latent_scale = latent_scale\n",
    "        self.cross_attn_proj = nn.Linear(4, 768).to(device)  # Match SD1.4's cross_attention_dim\n",
    "\n",
    "        # ------------------------------\n",
    "        # Load pretrained VAE (Frozen)\n",
    "        # ------------------------------\n",
    "        self.vae = AutoencoderKL.from_pretrained(\"CompVis/stable-diffusion-v1-4\", subfolder=\"vae\").to(self.device).eval()\n",
    "        for p in self.vae.parameters():\n",
    "            p.requires_grad = False\n",
    "\n",
    "        # ------------------------------\n",
    "        # Learnable Tau encoder\n",
    "        # ------------------------------\n",
    "        self.tau = TauEncoder(self.vae).to(self.device)\n",
    "\n",
    "        # ------------------------------\n",
    "        # Load pretrained U-Net (CrossAttention enabled)\n",
    "        # ------------------------------\n",
    "        self.unet = UNet2DConditionModel.from_pretrained(\"CompVis/stable-diffusion-v1-4\", subfolder=\"unet\").to(self.device)\n",
    "        self.unet.train()  # Learnable during segmentation\n",
    "\n",
    "        # ------------------------------\n",
    "        # Scheduler (e.g., DDPM)\n",
    "        # ------------------------------\n",
    "        self.scheduler = DDPMScheduler(num_train_timesteps=num_inference_steps)\n",
    "        \n",
    "    def forward(self, image: torch.Tensor, mask: torch.Tensor, t: torch.Tensor):\n",
    "        \"\"\"\n",
    "        Args:\n",
    "            image (torch.Tensor): Input RGB image in [-1, 1], shape (B, 3, 256, 256)\n",
    "            mask (torch.Tensor): Input GT mask in [-1, 1], shape (B, 3, 256, 256)\n",
    "            t (torch.Tensor): Timesteps, shape (B,)\n",
    "        Returns:\n",
    "            dict: All intermediate latents and predicted mask.\n",
    "        \"\"\"\n",
    "\n",
    "        # Step 1: Encode mask into latent z0 using frozen VAE\n",
    "        with torch.no_grad():\n",
    "            z0 = self.vae.encode(mask).latent_dist.sample() * self.latent_scale\n",
    "\n",
    "        # Step 2: Add noise to z0 using scheduler → zt\n",
    "        noise = torch.randn_like(z0)\n",
    "        zt = self.scheduler.add_noise(z0, noise, t)\n",
    "\n",
    "        # Step 3: Encode image into conditioning vector using Tau encoder\n",
    "        z_c = self.tau(image)  # (B, 4, 32, 32)\n",
    "\n",
    "        # Step 4: Reshape z_c to (B, HW, C) for cross-attention\n",
    "        B, C, H, W = z_c.shape\n",
    "        cross_attn = z_c.view(B, C, -1).permute(0, 2, 1)  # (B, HW, 4)\n",
    "        cross_attn = self.cross_attn_proj(cross_attn)     # (B, HW, 768)\n",
    "\n",
    "        # Step 5: Predict noise residual using cross-attention U-Net\n",
    "        noise_pred = self.unet(sample = zt, timestep = t, encoder_hidden_states = cross_attn).sample\n",
    "\n",
    "        # Step 6: Estimate denoised latent z0_hat using scheduler\n",
    "        with torch.no_grad():\n",
    "            z0_hat = self.scheduler.step(noise_pred, t, zt).prev_sample\n",
    "            mask_hat = self.vae.decode(z0_hat / self.latent_scale).sample\n",
    "\n",
    "        return {\n",
    "            \"z0\": z0,\n",
    "            \"zt\": zt,\n",
    "            \"z_c\": z_c,\n",
    "            \"z0_hat\": z0_hat,\n",
    "            \"mask_hat\": mask_hat\n",
    "        }\n"
   ]
  },
  {
   "cell_type": "code",
   "execution_count": 3,
   "metadata": {},
   "outputs": [
    {
     "data": {
      "text/plain": [
       "dict_keys(['z0', 'zt', 'z_c', 'z0_hat', 'mask_hat'])"
      ]
     },
     "execution_count": 3,
     "metadata": {},
     "output_type": "execute_result"
    }
   ],
   "source": [
    "\n",
    "# Dummy forward pass test\n",
    "device = \"cuda\" if torch.cuda.is_available() else \"cpu\"\n",
    "model = LDM_Segmentor_CrossAttention(device = device)\n",
    "\n",
    "B, C, H, W = 1, 3, 256, 256\n",
    "image = torch.randn(B, C, H, W).to(device)\n",
    "mask  = (torch.rand(B, C, H, W) > 0.5).float().to(device)\n",
    "t     = torch.randint(0, model.scheduler.config.num_train_timesteps, (B,), device=device)\n",
    "\n",
    "outputs = model(image, mask, t)\n",
    "outputs.keys()\n"
   ]
  },
  {
   "cell_type": "code",
   "execution_count": 5,
   "metadata": {},
   "outputs": [
    {
     "data": {
      "text/plain": [
       "torch.Size([1, 3, 256, 256])"
      ]
     },
     "execution_count": 5,
     "metadata": {},
     "output_type": "execute_result"
    }
   ],
   "source": [
    "outputs['mask_hat'].shape"
   ]
  },
  {
   "cell_type": "code",
   "execution_count": 1,
   "metadata": {},
   "outputs": [
    {
     "name": "stderr",
     "output_type": "stream",
     "text": [
      "/home/ee/anaconda3/envs/TaN2/lib/python3.11/site-packages/tqdm/auto.py:21: TqdmWarning: IProgress not found. Please update jupyter and ipywidgets. See https://ipywidgets.readthedocs.io/en/stable/user_install.html\n",
      "  from .autonotebook import tqdm as notebook_tqdm\n"
     ]
    }
   ],
   "source": [
    "from diffusers import UNet2DConditionModel\n",
    "import torch\n",
    "import torch.nn as nn\n",
    "\n",
    "def load_hybrid_unet(pretrained_model_path: str, device: str = \"cuda\") -> UNet2DConditionModel:\n",
    "    \"\"\"\n",
    "    Loads a pretrained UNet2DConditionModel and updates in_channels from 4 → 8.\n",
    "    The first 4 channels are copied from the pretrained model and the remaining 4 are randomly initialized.\n",
    "\n",
    "    Returns:\n",
    "        Modified UNet2DConditionModel with in_channels=8\n",
    "    \"\"\"\n",
    "    # Load the pretrained model (in_channels=4)\n",
    "    unet_pretrained = UNet2DConditionModel.from_pretrained(\n",
    "        pretrained_model_path,\n",
    "        subfolder=\"unet\",\n",
    "        torch_dtype=torch.float16\n",
    "    ).to(device)\n",
    "\n",
    "    # Deep copy config and modify in_channels\n",
    "    config = unet_pretrained.config\n",
    "    config.in_channels = 8  # <- THIS is critical\n",
    "\n",
    "    # Reinitialize the model with new config\n",
    "    unet_hybrid = UNet2DConditionModel.from_config(config).to(device)\n",
    "\n",
    "    # Get pretrained weights and new model weights\n",
    "    pretrained_sd = unet_pretrained.state_dict()\n",
    "    hybrid_sd     = unet_hybrid.state_dict()\n",
    "\n",
    "    # Copy matching keys except conv_in.weight\n",
    "    for key in hybrid_sd:\n",
    "        if key != \"conv_in.weight\" and key in pretrained_sd and hybrid_sd[key].shape == pretrained_sd[key].shape:\n",
    "            hybrid_sd[key] = pretrained_sd[key]\n",
    "\n",
    "    # Handle conv_in.weight separately\n",
    "    old_conv_weight = pretrained_sd[\"conv_in.weight\"]  # Shape: [320, 4, 3, 3]\n",
    "    out_channels, _, kH, kW = old_conv_weight.shape\n",
    "\n",
    "    new_conv_weight = torch.zeros((out_channels, 8, kH, kW), dtype=old_conv_weight.dtype).to(device)\n",
    "\n",
    "    # Copy first 4 channels from pretrained\n",
    "    new_conv_weight[:, :4, :, :] = old_conv_weight\n",
    "\n",
    "    # Random init for the additional 4 channels\n",
    "    nn.init.kaiming_normal_(new_conv_weight[:, 4:, :, :])\n",
    "\n",
    "    # Update the state dict\n",
    "    hybrid_sd[\"conv_in.weight\"] = new_conv_weight\n",
    "\n",
    "    # Load the updated state dict\n",
    "    unet_hybrid.load_state_dict(hybrid_sd)\n",
    "\n",
    "    return unet_hybrid.eval().requires_grad_(True)\n"
   ]
  },
  {
   "cell_type": "code",
   "execution_count": null,
   "metadata": {},
   "outputs": [],
   "source": [
    "unet = load_hybrid_unet(\"CompVis/stable-diffusion-v1-4\")\n",
    "print(unet.conv_in.weight.shape)  # Should be torch.Size([320, 8, 3, 3])\n"
   ]
  },
  {
   "cell_type": "code",
   "execution_count": null,
   "metadata": {},
   "outputs": [],
   "source": []
  }
 ],
 "metadata": {
  "kernelspec": {
   "display_name": "TaN2",
   "language": "python",
   "name": "python3"
  },
  "language_info": {
   "codemirror_mode": {
    "name": "ipython",
    "version": 3
   },
   "file_extension": ".py",
   "mimetype": "text/x-python",
   "name": "python",
   "nbconvert_exporter": "python",
   "pygments_lexer": "ipython3",
   "version": "3.11.9"
  }
 },
 "nbformat": 4,
 "nbformat_minor": 2
}
