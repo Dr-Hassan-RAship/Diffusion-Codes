{
 "cells": [
  {
   "cell_type": "code",
   "execution_count": 1,
   "metadata": {},
   "outputs": [
    {
     "name": "stderr",
     "output_type": "stream",
     "text": [
      "/home/ee/anaconda3/envs/TaN2/lib/python3.11/site-packages/tqdm/auto.py:21: TqdmWarning: IProgress not found. Please update jupyter and ipywidgets. See https://ipywidgets.readthedocs.io/en/stable/user_install.html\n",
      "  from .autonotebook import tqdm as notebook_tqdm\n"
     ]
    },
    {
     "name": "stdout",
     "output_type": "stream",
     "text": [
      "/media/ee/DATA/Talha_Nehal/Diffusion-Codes/GMS-testing\n"
     ]
    }
   ],
   "source": [
    "import numpy as np\n",
    "import os\n",
    "\n",
    "from utils import *\n",
    "# from networks import *\n",
    "from data import *\n",
    "from configs import config\n",
    "\n",
    "from torch.utils.data import DataLoader\n",
    "# from diffusers import AutoencoderTiny\n",
    "\n",
    "from tqdm import tqdm\n",
    "print(os.getcwd())"
   ]
  },
  {
   "cell_type": "code",
   "execution_count": 2,
   "metadata": {},
   "outputs": [],
   "source": [
    "path = f'/media/ee/DATA/Talha_Nehal/Diffusion-Codes/GMS/ckpt/tiny_vae_busi/epochs_200/checkpoints/{CHOSEN_STRATEGY}.pth'\n",
    "mapping_model3 = get_cuda(ResAttnUNet_DS(**MODEL_PARAMS)).to(dtype=torch.float32)\n",
    "\n",
    "mapping_model3 = load_checkpoint(mapping_model3, path)\n",
    "mapping_model3.eval()\n",
    "\n",
    "empty_dict3 = {}\n",
    "for key, value in mapping_model3.state_dict().items():\n",
    "    empty_dict3[key] = value"
   ]
  },
  {
   "cell_type": "code",
   "execution_count": 3,
   "metadata": {},
   "outputs": [
    {
     "name": "stdout",
     "output_type": "stream",
     "text": [
      "Mapping model state dict keys and their values:\n"
     ]
    }
   ],
   "source": [
    "mapping_model = get_cuda(ResAttnUNet_DS(**MODEL_PARAMS)).to(dtype=torch.float32)\n",
    "# Print state dict keys and value\n",
    "print(\"Mapping model state dict keys and their values:\")\n",
    "empty_dict = {}\n",
    "for key, value in mapping_model.state_dict().items():\n",
    "    empty_dict[key] = value"
   ]
  },
  {
   "cell_type": "code",
   "execution_count": 4,
   "metadata": {},
   "outputs": [],
   "source": [
    "mapping_model2 = get_cuda(ResAttnUNet_DS(**MODEL_PARAMS)).to(dtype=torch.float32)\n",
    "\n",
    "mapping_model2 = load_checkpoint(mapping_model2, MODEL_WEIGHT_PATH)\n",
    "mapping_model2.eval()\n",
    "\n",
    "empty_dict2 = {}\n",
    "for key, value in mapping_model2.state_dict().items():\n",
    "    empty_dict2[key] = value"
   ]
  },
  {
   "cell_type": "code",
   "execution_count": null,
   "metadata": {},
   "outputs": [],
   "source": [
    "empty_dict['conv1_0.resblock.conv2.0.bias'], empty_dict2['conv1_0.resblock.conv2.0.bias'], empty_dict3['conv1_0.resblock.conv2.0.bias']"
   ]
  },
  {
   "cell_type": "code",
   "execution_count": null,
   "metadata": {},
   "outputs": [],
   "source": [
    "# compare empty_dict and empty_dict2\n",
    "i = 0\n",
    "for key in empty_dict:\n",
    "    if key in empty_dict2:\n",
    "        if not torch.equal(empty_dict[key], empty_dict2[key]):\n",
    "            print(f\"Mismatch in {key}\")\n",
    "    else:\n",
    "        print(f\"Key {key} not found in empty_dict2\")\n",
    "    i += 1\n",
    "    if i > 10:\n",
    "        break"
   ]
  },
  {
   "cell_type": "code",
   "execution_count": null,
   "metadata": {},
   "outputs": [],
   "source": [
    "# Show a nice visualization of a random set of keys and values for both empty_dict and empty_dict2 \n",
    "import random\n",
    "keys = list(empty_dict.keys())\n",
    "random_keys = random.sample(keys, 5)\n",
    "for key in random_keys:\n",
    "    print(f\"{key}: {empty_dict[key]} vs {empty_dict2[key]}\")"
   ]
  },
  {
   "cell_type": "code",
   "execution_count": 9,
   "metadata": {},
   "outputs": [
    {
     "name": "stdout",
     "output_type": "stream",
     "text": [
      "\n",
      "=== ./ckpt/busi/test_code_2/checkpoints/best_valid_dice.pth ===\n",
      "input_blocks.weight                      | mean: +0.0021 | std: 0.0902\n",
      "input_blocks.bias                        | mean: -0.0005 | std: 0.0215\n",
      "conv1_0.resblock.act1.weight             | mean: +0.1107 | std: nan\n",
      "conv1_0.resblock.act2.weight             | mean: +0.1107 | std: nan\n",
      "conv1_0.resblock.conv1.0.weight          | mean: +0.9660 | std: 0.0449\n",
      "\n",
      "=== /media/ee/DATA/Talha_Nehal/Diffusion-Codes/GMS/ckpt/tiny_vae_busi/epochs_200/checkpoints/best_valid_dice.pth ===\n",
      "input_blocks.weight                      | mean: +0.0042 | std: 0.0921\n",
      "input_blocks.bias                        | mean: -0.0002 | std: 0.0270\n",
      "conv1_0.resblock.act1.weight             | mean: +0.1297 | std: nan\n",
      "conv1_0.resblock.act2.weight             | mean: +0.0421 | std: nan\n",
      "conv1_0.resblock.conv1.0.weight          | mean: +0.9659 | std: 0.0509\n"
     ]
    },
    {
     "name": "stderr",
     "output_type": "stream",
     "text": [
      "/tmp/ipykernel_2469509/4082065693.py:16: UserWarning: std(): degrees of freedom is <= 0. Correction should be strictly less than the reduction factor (input numel divided by output numel). (Triggered internally at /opt/conda/conda-bld/pytorch_1729647369228/work/aten/src/ATen/native/ReduceOps.cpp:1823.)\n",
      "  print(f\"{name:40s} | mean: {tensor.mean():+.4f} | std: {tensor.std():.4f}\")\n"
     ]
    }
   ],
   "source": [
    "import torch, sys, os\n",
    "\n",
    "def show_stats(ckpt_path: str, n_layers: int = 5):\n",
    "    if not os.path.isfile(ckpt_path):\n",
    "        print(f\"[!] File not found: {ckpt_path}\")\n",
    "        return\n",
    "\n",
    "    state_full  = torch.load(ckpt_path, map_location=\"cpu\", weights_only = True)\n",
    "\n",
    "    # ‼️ Handle both {\"model\": …} and plain state-dict formats\n",
    "    state_dict  = state_full[\"model\"] if isinstance(state_full, dict) and \"model\" in state_full else state_full\n",
    "\n",
    "    print(f\"\\n=== {ckpt_path} ===\")\n",
    "    for i, (name, tensor) in enumerate(state_dict.items()):\n",
    "        if i >= n_layers: break\n",
    "        print(f\"{name:40s} | mean: {tensor.mean():+.4f} | std: {tensor.std():.4f}\")\n",
    "\n",
    "# ---- usage ----\n",
    "show_stats(MODEL_WEIGHT_PATH)\n",
    "show_stats(path)\n"
   ]
  },
  {
   "cell_type": "code",
   "execution_count": 8,
   "metadata": {},
   "outputs": [],
   "source": [
    "for name, param in mapping_model3.named_parameters():\n",
    "    if torch.isnan(param).any():\n",
    "        print(f\"[NaN WARNING] {name} has NaNs!\")"
   ]
  },
  {
   "cell_type": "code",
   "execution_count": null,
   "metadata": {},
   "outputs": [],
   "source": []
  }
 ],
 "metadata": {
  "kernelspec": {
   "display_name": "Python 3",
   "language": "python",
   "name": "python3"
  },
  "language_info": {
   "codemirror_mode": {
    "name": "ipython",
    "version": 3
   },
   "file_extension": ".py",
   "mimetype": "text/x-python",
   "name": "python",
   "nbconvert_exporter": "python",
   "pygments_lexer": "ipython3",
   "version": "3.12.5"
  }
 },
 "nbformat": 4,
 "nbformat_minor": 2
}
