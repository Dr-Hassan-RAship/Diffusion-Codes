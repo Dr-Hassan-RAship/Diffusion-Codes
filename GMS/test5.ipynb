{
 "cells": [
  {
   "cell_type": "code",
   "execution_count": 6,
   "id": "5268e2dc",
   "metadata": {},
   "outputs": [
    {
     "name": "stdout",
     "output_type": "stream",
     "text": [
      "255 0 (480, 640, 3)\n",
      "Original image shape: (480, 640, 3)\n",
      "Augmented image shape: (256, 256, 3)\n"
     ]
    }
   ],
   "source": [
    "import albumentations as A\n",
    "import cv2\n",
    "import numpy as np\n",
    "\n",
    "# Define the desired height and width\n",
    "target_height = 256\n",
    "target_width = 256\n",
    "\n",
    "# Create a Resize transform\n",
    "resize_transform = A.Resize(height=target_height, width=target_width)\n",
    "\n",
    "# Load an example image (or create a dummy one)\n",
    "# In a real scenario, you would load your image using libraries like OpenCV or PIL\n",
    "image = np.random.randint(0, 256, (480, 640, 3), dtype = np.uint8) \n",
    "\n",
    "print(image.max(), image.min(), image.shape)\n",
    "\n",
    "# Apply the transform to the image\n",
    "augmented_image = resize_transform(image=image)['image']\n",
    "\n",
    "print(f\"Original image shape: {image.shape}\")\n",
    "print(f\"Augmented image shape: {augmented_image.shape}\") "
   ]
  },
  {
   "cell_type": "code",
   "execution_count": 7,
   "id": "955347dc",
   "metadata": {},
   "outputs": [
    {
     "data": {
      "text/plain": [
       "(np.uint8(253), np.uint8(4))"
      ]
     },
     "execution_count": 7,
     "metadata": {},
     "output_type": "execute_result"
    }
   ],
   "source": [
    "augmented_image.max(), augmented_image.min()"
   ]
  },
  {
   "cell_type": "code",
   "execution_count": null,
   "id": "1b170fa5",
   "metadata": {},
   "outputs": [],
   "source": []
  }
 ],
 "metadata": {
  "kernelspec": {
   "display_name": "Python 3",
   "language": "python",
   "name": "python3"
  },
  "language_info": {
   "codemirror_mode": {
    "name": "ipython",
    "version": 3
   },
   "file_extension": ".py",
   "mimetype": "text/x-python",
   "name": "python",
   "nbconvert_exporter": "python",
   "pygments_lexer": "ipython3",
   "version": "3.13.5"
  }
 },
 "nbformat": 4,
 "nbformat_minor": 5
}
