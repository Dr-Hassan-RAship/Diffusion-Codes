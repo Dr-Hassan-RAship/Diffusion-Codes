{
 "cells": [
  {
   "cell_type": "code",
   "execution_count": 1,
   "metadata": {},
   "outputs": [
    {
     "name": "stderr",
     "output_type": "stream",
     "text": [
      "/home/ee/anaconda3/envs/TaN2/lib/python3.11/site-packages/tqdm/auto.py:21: TqdmWarning: IProgress not found. Please update jupyter and ipywidgets. See https://ipywidgets.readthedocs.io/en/stable/user_install.html\n",
      "  from .autonotebook import tqdm as notebook_tqdm\n"
     ]
    }
   ],
   "source": [
    "from architectures import  *\n",
    "from torchinfo import summary\n",
    "import torch"
   ]
  },
  {
   "cell_type": "code",
   "execution_count": 2,
   "metadata": {},
   "outputs": [],
   "source": [
    "model     = LDM_Segmentor(device = 'cpu').to('cpu')"
   ]
  },
  {
   "cell_type": "code",
   "execution_count": 3,
   "metadata": {},
   "outputs": [],
   "source": [
    "vae, image_encoder, unet = model.vae, model.image_encoder, model.unet"
   ]
  },
  {
   "cell_type": "code",
   "execution_count": 4,
   "metadata": {},
   "outputs": [
    {
     "data": {
      "text/plain": [
       "(False, True, True)"
      ]
     },
     "execution_count": 4,
     "metadata": {},
     "output_type": "execute_result"
    }
   ],
   "source": [
    "vae.training, image_encoder.training, unet.training"
   ]
  },
  {
   "cell_type": "code",
   "execution_count": 5,
   "metadata": {},
   "outputs": [],
   "source": [
    "tau_quant_cov = image_encoder.quant_cov"
   ]
  },
  {
   "cell_type": "code",
   "execution_count": 6,
   "metadata": {},
   "outputs": [
    {
     "data": {
      "text/plain": [
       "True"
      ]
     },
     "execution_count": 6,
     "metadata": {},
     "output_type": "execute_result"
    }
   ],
   "source": [
    "tau_quant_cov.training"
   ]
  },
  {
   "cell_type": "code",
   "execution_count": 7,
   "metadata": {},
   "outputs": [
    {
     "data": {
      "text/plain": [
       "====================================================================================================\n",
       "Layer (type:depth-idx)                             Output Shape              Param #\n",
       "====================================================================================================\n",
       "AutoencoderKL                                      [1, 3, 256, 256]          --\n",
       "├─Encoder: 1-1                                     [1, 8, 32, 32]            --\n",
       "│    └─Conv2d: 2-1                                 [1, 128, 256, 256]        (3,584)\n",
       "│    └─ModuleList: 2-2                             --                        --\n",
       "│    │    └─DownEncoderBlock2D: 3-1                [1, 128, 128, 128]        (738,944)\n",
       "│    │    └─DownEncoderBlock2D: 3-2                [1, 256, 64, 64]          (2,690,304)\n",
       "│    │    └─DownEncoderBlock2D: 3-3                [1, 512, 32, 32]          (10,754,560)\n",
       "│    │    └─DownEncoderBlock2D: 3-4                [1, 512, 32, 32]          (9,443,328)\n",
       "│    └─UNetMidBlock2D: 2-3                         [1, 512, 32, 32]          --\n",
       "│    │    └─ModuleList: 3-7                        --                        (recursive)\n",
       "│    │    └─ModuleList: 3-6                        --                        (1,051,648)\n",
       "│    │    └─ModuleList: 3-7                        --                        (recursive)\n",
       "│    └─GroupNorm: 2-4                              [1, 512, 32, 32]          (1,024)\n",
       "│    └─SiLU: 2-5                                   [1, 512, 32, 32]          --\n",
       "│    └─Conv2d: 2-6                                 [1, 8, 32, 32]            (36,872)\n",
       "├─Conv2d: 1-2                                      [1, 8, 32, 32]            (72)\n",
       "├─Conv2d: 1-3                                      [1, 4, 32, 32]            (20)\n",
       "├─Decoder: 1-4                                     [1, 3, 256, 256]          --\n",
       "│    └─Conv2d: 2-7                                 [1, 512, 32, 32]          (18,944)\n",
       "│    └─UNetMidBlock2D: 2-8                         [1, 512, 32, 32]          --\n",
       "│    │    └─ModuleList: 3-10                       --                        (recursive)\n",
       "│    │    └─ModuleList: 3-9                        --                        (1,051,648)\n",
       "│    │    └─ModuleList: 3-10                       --                        (recursive)\n",
       "│    └─ModuleList: 2-9                             --                        --\n",
       "│    │    └─UpDecoderBlock2D: 3-11                 [1, 512, 64, 64]          (16,524,800)\n",
       "│    │    └─UpDecoderBlock2D: 3-12                 [1, 512, 128, 128]        (16,524,800)\n",
       "│    │    └─UpDecoderBlock2D: 3-13                 [1, 256, 256, 256]        (4,855,296)\n",
       "│    │    └─UpDecoderBlock2D: 3-14                 [1, 128, 256, 256]        (1,067,648)\n",
       "│    └─GroupNorm: 2-10                             [1, 128, 256, 256]        (256)\n",
       "│    └─SiLU: 2-11                                  [1, 128, 256, 256]        --\n",
       "│    └─Conv2d: 2-12                                [1, 3, 256, 256]          (3,459)\n",
       "====================================================================================================\n",
       "Total params: 83,653,863\n",
       "Trainable params: 0\n",
       "Non-trainable params: 83,653,863\n",
       "Total mult-adds (Units.GIGABYTES): 443.38\n",
       "====================================================================================================\n",
       "Input size (MB): 0.79\n",
       "Forward/backward pass size (MB): 3160.05\n",
       "Params size (MB): 334.62\n",
       "Estimated Total Size (MB): 3495.45\n",
       "===================================================================================================="
      ]
     },
     "execution_count": 7,
     "metadata": {},
     "output_type": "execute_result"
    }
   ],
   "source": [
    "summary(vae, (1, 3, 256, 256), device = 'cpu')"
   ]
  },
  {
   "cell_type": "code",
   "execution_count": 8,
   "metadata": {},
   "outputs": [
    {
     "data": {
      "text/plain": [
       "====================================================================================================\n",
       "Layer (type:depth-idx)                             Output Shape              Param #\n",
       "====================================================================================================\n",
       "TauEncoder                                         [1, 4, 32, 32]            --\n",
       "├─Encoder: 1-1                                     [1, 8, 32, 32]            --\n",
       "│    └─Conv2d: 2-1                                 [1, 128, 256, 256]        3,584\n",
       "│    └─ModuleList: 2-2                             --                        --\n",
       "│    │    └─DownEncoderBlock2D: 3-1                [1, 128, 128, 128]        738,944\n",
       "│    │    └─DownEncoderBlock2D: 3-2                [1, 256, 64, 64]          2,690,304\n",
       "│    │    └─DownEncoderBlock2D: 3-3                [1, 512, 32, 32]          10,754,560\n",
       "│    │    └─DownEncoderBlock2D: 3-4                [1, 512, 32, 32]          9,443,328\n",
       "│    └─UNetMidBlock2D: 2-3                         [1, 512, 32, 32]          --\n",
       "│    │    └─ModuleList: 3-7                        --                        (recursive)\n",
       "│    │    └─ModuleList: 3-6                        --                        1,051,648\n",
       "│    │    └─ModuleList: 3-7                        --                        (recursive)\n",
       "│    └─GroupNorm: 2-4                              [1, 512, 32, 32]          1,024\n",
       "│    └─SiLU: 2-5                                   [1, 512, 32, 32]          --\n",
       "│    └─Conv2d: 2-6                                 [1, 8, 32, 32]            36,872\n",
       "├─Conv2d: 1-2                                      [1, 8, 32, 32]            72\n",
       "====================================================================================================\n",
       "Total params: 34,163,664\n",
       "Trainable params: 34,163,664\n",
       "Non-trainable params: 0\n",
       "Total mult-adds (Units.GIGABYTES): 134.30\n",
       "====================================================================================================\n",
       "Input size (MB): 0.79\n",
       "Forward/backward pass size (MB): 1153.56\n",
       "Params size (MB): 136.65\n",
       "Estimated Total Size (MB): 1291.01\n",
       "===================================================================================================="
      ]
     },
     "execution_count": 8,
     "metadata": {},
     "output_type": "execute_result"
    }
   ],
   "source": [
    "summary(image_encoder, (1, 3, 256, 256), device = 'cpu')"
   ]
  },
  {
   "cell_type": "code",
   "execution_count": 6,
   "metadata": {},
   "outputs": [],
   "source": [
    "BASE_DIR = '/media/ee/DATA/Talha_Nehal/Datasets/Kvasir-SEG'\n",
    "\n",
    "from glob import glob\n",
    "import cv2\n",
    "\n",
    "image_paths = glob(\"/media/ee/DATA/Talha_Nehal/Datasets/Kvasir-SEG/val/masks/*.jpg\")\n",
    "for path in image_paths:\n",
    "    if cv2.imread(path) is None:\n",
    "        print(f\"❌ Corrupt or unreadable image: {path}\")\n"
   ]
  },
  {
   "cell_type": "code",
   "execution_count": null,
   "metadata": {},
   "outputs": [],
   "source": []
  },
  {
   "cell_type": "code",
   "execution_count": null,
   "metadata": {},
   "outputs": [],
   "source": []
  }
 ],
 "metadata": {
  "kernelspec": {
   "display_name": "TaN2",
   "language": "python",
   "name": "python3"
  },
  "language_info": {
   "codemirror_mode": {
    "name": "ipython",
    "version": 3
   },
   "file_extension": ".py",
   "mimetype": "text/x-python",
   "name": "python",
   "nbconvert_exporter": "python",
   "pygments_lexer": "ipython3",
   "version": "3.11.9"
  }
 },
 "nbformat": 4,
 "nbformat_minor": 2
}
