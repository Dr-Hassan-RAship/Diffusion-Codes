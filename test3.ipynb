{
 "cells": [
  {
   "cell_type": "code",
   "execution_count": null,
   "id": "5226f4df",
   "metadata": {},
   "outputs": [
    {
     "name": "stdout",
     "output_type": "stream",
     "text": [
      "Instantiating LiteVAEEncoder with model_version: litevae-m..\n"
     ]
    }
   ],
   "source": [
    "# autoreload\n",
    "%load_ext autoreload\n",
    "%autoreload 2\n",
    "\n",
    "from networks.novel.lite_vae.blocks.haar import HaarTransform\n",
    "import torch\n",
    "from networks.novel.lite_vae.encoder            import LiteVAEEncoder\n",
    "from networks.novel.lite_vae.decoder            import *  # or SDVAEDecoder\n",
    "from networks.novel.lite_vae.litevae            import LiteVAE\n",
    "\n",
    "import torch\n",
    "import torch.nn as nn\n",
    "from torchinfo import summary\n",
    "import numpy as np\n",
    "\n",
    "from data.image_dataset import *\n",
    "from torch.utils.data import DataLoader\n",
    "import ptwt, pywt"
   ]
  },
  {
   "cell_type": "code",
   "execution_count": 2,
   "id": "d4563591",
   "metadata": {},
   "outputs": [
    {
     "data": {
      "text/plain": [
       "torch.Size([24, 3, 224, 224])"
      ]
     },
     "execution_count": 2,
     "metadata": {},
     "output_type": "execute_result"
    }
   ],
   "source": [
    "train_dataset = Image_Dataset('Dataset/busi/busi_train_test_names.pkl', stage=\"train\", excel = False)\n",
    "train_dataloader = DataLoader(\n",
    "    train_dataset,\n",
    "    batch_size=24,\n",
    "    pin_memory=True,\n",
    "    drop_last=True,\n",
    "    shuffle=True,\n",
    ")\n",
    "\n",
    "batch = next(iter(train_dataloader))\n",
    "img_batch = batch['img']\n",
    "img_batch.shape\n"
   ]
  },
  {
   "cell_type": "code",
   "execution_count": 7,
   "id": "918deb69",
   "metadata": {},
   "outputs": [
    {
     "name": "stdout",
     "output_type": "stream",
     "text": [
      "Instantiating LiteVAEEncoder with model_version: litevae-s..\n"
     ]
    }
   ],
   "source": [
    "base_model = LiteVAE(LiteVAEEncoder(model_version = 'litevae-s'))"
   ]
  },
  {
   "cell_type": "code",
   "execution_count": 13,
   "id": "f3b7ed59",
   "metadata": {},
   "outputs": [
    {
     "name": "stdout",
     "output_type": "stream",
     "text": [
      "Model is on: cpu\n",
      "Model parameters dtype: torch.float32\n"
     ]
    }
   ],
   "source": [
    "# check device of base_model\n",
    "print(f\"Model is on: {next(base_model.parameters()).device}\")\n",
    "\n",
    "dtype = next(base_model.parameters()).dtype\n",
    "print(f\"Model parameters dtype: {dtype}\")"
   ]
  },
  {
   "cell_type": "code",
   "execution_count": 8,
   "id": "67f6cf1e",
   "metadata": {},
   "outputs": [
    {
     "name": "stdout",
     "output_type": "stream",
     "text": [
      "DWT Done!\n",
      "Feature Extraction Done!\n",
      "Concatenation Done!\n",
      "Aggregation Done!\n"
     ]
    }
   ],
   "source": [
    "out = base_model(img_batch)"
   ]
  },
  {
   "cell_type": "code",
   "execution_count": 9,
   "id": "0fd757f2",
   "metadata": {},
   "outputs": [
    {
     "data": {
      "text/plain": [
       "(torch.Size([24, 4, 28, 28]), device(type='cpu'), torch.float32)"
      ]
     },
     "execution_count": 9,
     "metadata": {},
     "output_type": "execute_result"
    }
   ],
   "source": [
    "out['latent'].shape, out['latent'].device, out['latent'].dtype"
   ]
  },
  {
   "cell_type": "code",
   "execution_count": 10,
   "id": "da138e6c",
   "metadata": {},
   "outputs": [
    {
     "name": "stdout",
     "output_type": "stream",
     "text": [
      "DWT Done!\n",
      "Feature Extraction Done!\n",
      "Concatenation Done!\n",
      "Aggregation Done!\n"
     ]
    },
    {
     "data": {
      "text/plain": [
       "===============================================================================================\n",
       "Layer (type:depth-idx)                        Output Shape              Param #\n",
       "===============================================================================================\n",
       "LiteVAE                                       [2, 4, 28, 28]            2,445,063\n",
       "├─LiteVAEEncoder: 1-1                         [2, 8, 28, 28]            --\n",
       "│    └─LiteVAEUNetBlock: 2-1                  [2, 12, 112, 112]         --\n",
       "│    │    └─Conv2d: 3-1                       [2, 16, 112, 112]         1,744\n",
       "│    │    └─ModuleList: 3-2                   --                        79,808\n",
       "│    │    └─MidBlock2D: 3-3                   [2, 32, 112, 112]         37,248\n",
       "│    │    └─ModuleList: 3-4                   --                        137,664\n",
       "│    │    └─Conv2d: 3-5                       [2, 12, 112, 112]         1,740\n",
       "│    └─Downsample2D: 2-2                      [2, 12, 28, 28]           --\n",
       "│    │    └─AvgPool2d: 3-6                    [2, 12, 28, 28]           --\n",
       "│    └─LiteVAEUNetBlock: 2-3                  [2, 12, 56, 56]           --\n",
       "│    │    └─Conv2d: 3-7                       [2, 16, 56, 56]           1,744\n",
       "│    │    └─ModuleList: 3-8                   --                        79,808\n",
       "│    │    └─MidBlock2D: 3-9                   [2, 32, 56, 56]           37,248\n",
       "│    │    └─ModuleList: 3-10                  --                        137,664\n",
       "│    │    └─Conv2d: 3-11                      [2, 12, 56, 56]           1,740\n",
       "│    └─Downsample2D: 2-4                      [2, 12, 28, 28]           --\n",
       "│    │    └─AvgPool2d: 3-12                   [2, 12, 28, 28]           --\n",
       "│    └─LiteVAEUNetBlock: 2-5                  [2, 12, 28, 28]           --\n",
       "│    │    └─Conv2d: 3-13                      [2, 16, 28, 28]           1,744\n",
       "│    │    └─ModuleList: 3-14                  --                        79,808\n",
       "│    │    └─MidBlock2D: 3-15                  [2, 32, 28, 28]           37,248\n",
       "│    │    └─ModuleList: 3-16                  --                        137,664\n",
       "│    │    └─Conv2d: 3-17                      [2, 12, 28, 28]           1,740\n",
       "│    └─LiteVAEUNetBlock: 2-6                  [2, 8, 28, 28]            --\n",
       "│    │    └─Conv2d: 3-18                      [2, 16, 28, 28]           5,200\n",
       "│    │    └─ModuleList: 3-19                  --                        79,808\n",
       "│    │    └─MidBlock2D: 3-20                  [2, 32, 28, 28]           37,248\n",
       "│    │    └─ModuleList: 3-21                  --                        137,664\n",
       "│    │    └─Conv2d: 3-22                      [2, 8, 28, 28]            1,160\n",
       "├─Identity: 1-2                               [2, 8, 28, 28]            --\n",
       "===============================================================================================\n",
       "Total params: 3,480,755\n",
       "Trainable params: 3,480,755\n",
       "Non-trainable params: 0\n",
       "Total mult-adds (Units.GIGABYTES): 8.85\n",
       "===============================================================================================\n",
       "Input size (MB): 1.20\n",
       "Forward/backward pass size (MB): 528.70\n",
       "Params size (MB): 4.14\n",
       "Estimated Total Size (MB): 534.05\n",
       "==============================================================================================="
      ]
     },
     "execution_count": 10,
     "metadata": {},
     "output_type": "execute_result"
    }
   ],
   "source": [
    "summary(base_model, input_size = (2, 3, 224, 224))"
   ]
  },
  {
   "cell_type": "code",
   "execution_count": null,
   "id": "175fec08",
   "metadata": {},
   "outputs": [],
   "source": []
  }
 ],
 "metadata": {
  "kernelspec": {
   "display_name": "TaN2",
   "language": "python",
   "name": "python3"
  },
  "language_info": {
   "codemirror_mode": {
    "name": "ipython",
    "version": 3
   },
   "file_extension": ".py",
   "mimetype": "text/x-python",
   "name": "python",
   "nbconvert_exporter": "python",
   "pygments_lexer": "ipython3",
   "version": "3.11.9"
  }
 },
 "nbformat": 4,
 "nbformat_minor": 5
}
